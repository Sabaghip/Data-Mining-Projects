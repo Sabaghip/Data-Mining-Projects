{
 "cells": [
  {
   "cell_type": "markdown",
   "source": [
    "<h1 align=center style=\"line-height:300%;font-family:vazir;color:#0099cc\">\n",
    "<font face=\"vazir\" color=\"#0099cc\">\n",
    "پروژه دوم درس داده کاوی\n",
    "</font>\n",
    "</h1>\n",
    "<h3 align=center style=\"line-height:100%;font-family:vazir;color:#0099cc\">\n",
    "استاد درس: دکتر ناظرفرد\n",
    "</h3>\n",
    "<h5 align=center style=\"font-size: 20px;line-height:100%;font-family:vazir;color:#0099cc\">\n",
    "طراح تمرین عملی: فرهاد امان  \n",
    "    </h5>"
   ],
   "metadata": {
    "collapsed": false
   },
   "id": "f1ebe1ed03240222"
  },
  {
   "cell_type": "markdown",
   "source": [
    "## Importing Libraries"
   ],
   "metadata": {
    "collapsed": false
   },
   "id": "8a5cceb20243cb51"
  },
  {
   "cell_type": "code",
   "outputs": [],
   "source": [],
   "metadata": {
    "collapsed": false,
    "ExecuteTime": {
     "end_time": "2024-04-27T22:39:08.679611Z",
     "start_time": "2024-04-27T22:39:08.677798Z"
    }
   },
   "id": "513c007129509625",
   "execution_count": null
  },
  {
   "cell_type": "markdown",
   "source": [
    "## Loading Data to Pandas DataFrame"
   ],
   "metadata": {
    "collapsed": false
   },
   "id": "f4016a2a80b807de"
  },
  {
   "cell_type": "code",
   "outputs": [],
   "source": [],
   "metadata": {
    "collapsed": false,
    "ExecuteTime": {
     "end_time": "2024-04-27T22:39:11.202352Z",
     "start_time": "2024-04-27T22:39:11.199816Z"
    }
   },
   "id": "d29b38dfb701904b",
   "execution_count": null
  },
  {
   "cell_type": "markdown",
   "source": [
    "## Droping Unnecessary Columns"
   ],
   "metadata": {
    "collapsed": false
   },
   "id": "7a82dd9cdac10809"
  },
  {
   "cell_type": "code",
   "outputs": [],
   "source": [],
   "metadata": {
    "collapsed": false,
    "ExecuteTime": {
     "end_time": "2024-04-27T22:39:14.866814Z",
     "start_time": "2024-04-27T22:39:14.863656Z"
    }
   },
   "id": "d2c43acc649ad598",
   "execution_count": null
  },
  {
   "cell_type": "markdown",
   "source": [
    "## Splitting Data to Train and Test"
   ],
   "metadata": {
    "collapsed": false
   },
   "id": "90b80fb323fb1cb3"
  },
  {
   "cell_type": "code",
   "outputs": [],
   "source": [],
   "metadata": {
    "collapsed": false,
    "ExecuteTime": {
     "end_time": "2024-04-27T22:39:18.483566Z",
     "start_time": "2024-04-27T22:39:18.480011Z"
    }
   },
   "id": "44527331bef11c93",
   "execution_count": null
  },
  {
   "cell_type": "markdown",
   "source": [
    "## Visualizing Data Distribution and Correlation"
   ],
   "metadata": {
    "collapsed": false
   },
   "id": "45b13a1182adba70"
  },
  {
   "cell_type": "code",
   "outputs": [],
   "source": [],
   "metadata": {
    "collapsed": false,
    "ExecuteTime": {
     "end_time": "2024-04-27T22:39:31.934602Z",
     "start_time": "2024-04-27T22:39:31.931769Z"
    }
   },
   "id": "7b7fb9f4b420ef65",
   "execution_count": null
  },
  {
   "cell_type": "code",
   "outputs": [],
   "source": [],
   "metadata": {
    "collapsed": false,
    "ExecuteTime": {
     "end_time": "2024-04-27T22:39:32.186119Z",
     "start_time": "2024-04-27T22:39:32.184328Z"
    }
   },
   "id": "8e0a6a6792f507d0",
   "execution_count": null
  },
  {
   "cell_type": "code",
   "outputs": [],
   "source": [],
   "metadata": {
    "collapsed": false,
    "ExecuteTime": {
     "end_time": "2024-04-27T22:39:34.724574Z",
     "start_time": "2024-04-27T22:39:34.722790Z"
    }
   },
   "id": "64e0f4c96e2498da",
   "execution_count": null
  },
  {
   "cell_type": "markdown",
   "source": [
    "## Linear Regression"
   ],
   "metadata": {
    "collapsed": false
   },
   "id": "cb32dee165bfc767"
  },
  {
   "cell_type": "code",
   "outputs": [],
   "source": [],
   "metadata": {
    "collapsed": false,
    "ExecuteTime": {
     "end_time": "2024-04-27T22:39:38.500428Z",
     "start_time": "2024-04-27T22:39:38.497442Z"
    }
   },
   "id": "f8fc073d777ee178",
   "execution_count": null
  },
  {
   "cell_type": "markdown",
   "source": [
    "## Polynomial Regression"
   ],
   "metadata": {
    "collapsed": false
   },
   "id": "f2a6ec5f88f7f7e0"
  },
  {
   "cell_type": "code",
   "outputs": [],
   "source": [],
   "metadata": {
    "collapsed": false,
    "ExecuteTime": {
     "end_time": "2024-04-27T22:39:41.951561Z",
     "start_time": "2024-04-27T22:39:41.949418Z"
    }
   },
   "id": "b821590bcec1b57",
   "execution_count": null
  },
  {
   "cell_type": "markdown",
   "source": [
    "## Ridge Regression"
   ],
   "metadata": {
    "collapsed": false
   },
   "id": "ca0893b45bcbeeef"
  },
  {
   "cell_type": "code",
   "outputs": [],
   "source": [],
   "metadata": {
    "collapsed": false,
    "ExecuteTime": {
     "end_time": "2024-04-27T22:39:45.585869Z",
     "start_time": "2024-04-27T22:39:45.582856Z"
    }
   },
   "id": "26515c29b9b71ae1",
   "execution_count": null
  },
  {
   "cell_type": "markdown",
   "source": [
    "## Lasso Regression"
   ],
   "metadata": {
    "collapsed": false
   },
   "id": "dc099ac9d4c684cf"
  },
  {
   "cell_type": "code",
   "outputs": [],
   "source": [],
   "metadata": {
    "collapsed": false,
    "ExecuteTime": {
     "end_time": "2024-04-27T22:39:49.267279Z",
     "start_time": "2024-04-27T22:39:49.264334Z"
    }
   },
   "id": "9f7f9365e54d1d2a",
   "execution_count": null
  },
  {
   "cell_type": "markdown",
   "source": [
    "## Elastic Net Regression"
   ],
   "metadata": {
    "collapsed": false
   },
   "id": "2db7ffa9dc5c164a"
  },
  {
   "cell_type": "code",
   "outputs": [],
   "source": [],
   "metadata": {
    "collapsed": false,
    "ExecuteTime": {
     "end_time": "2024-04-27T22:39:52.916126Z",
     "start_time": "2024-04-27T22:39:52.913336Z"
    }
   },
   "id": "7e3e21c82caafbaf",
   "execution_count": null
  },
  {
   "cell_type": "markdown",
   "source": [
    "## XGBoost Regression "
   ],
   "metadata": {
    "collapsed": false
   },
   "id": "57a6793d329b39c1"
  },
  {
   "cell_type": "code",
   "outputs": [],
   "source": [],
   "metadata": {
    "collapsed": false,
    "ExecuteTime": {
     "end_time": "2024-04-27T22:39:56.413160Z",
     "start_time": "2024-04-27T22:39:56.410201Z"
    }
   },
   "id": "e2aa7f74e22f6129",
   "execution_count": null
  },
  {
   "cell_type": "markdown",
   "source": [
    "# Assosiation Rules"
   ],
   "metadata": {
    "collapsed": false
   },
   "id": "ef3c55fb0ba403b1"
  },
  {
   "cell_type": "code",
   "outputs": [],
   "source": [
    "# 0. Import Libraries\n",
    "\n",
    "\n",
    "# 1. Data Loading\n",
    "\n",
    "\n",
    "# 2. Preprocess Data\n",
    "\n",
    "\n",
    "# 3. Apply TransactionEncoder\n",
    "\n",
    "\n",
    "# 4. Generate Frequent Itemsets\n",
    "\n",
    "\n",
    "# 5. Generate Association Rules\n",
    "\n",
    "\n",
    "# 6. Display Rules\n",
    "\n"
   ],
   "metadata": {
    "collapsed": false,
    "ExecuteTime": {
     "end_time": "2024-04-27T22:40:26.022192Z",
     "start_time": "2024-04-27T22:40:26.018139Z"
    }
   },
   "id": "6ec4ab3c04abf483",
   "execution_count": 1
  },
  {
   "cell_type": "code",
   "outputs": [],
   "source": [],
   "metadata": {
    "collapsed": false
   },
   "id": "642037372a897727"
  }
 ],
 "metadata": {
  "kernelspec": {
   "display_name": "Python 3",
   "language": "python",
   "name": "python3"
  },
  "language_info": {
   "codemirror_mode": {
    "name": "ipython",
    "version": 2
   },
   "file_extension": ".py",
   "mimetype": "text/x-python",
   "name": "python",
   "nbconvert_exporter": "python",
   "pygments_lexer": "ipython2",
   "version": "2.7.6"
  }
 },
 "nbformat": 4,
 "nbformat_minor": 5
}
